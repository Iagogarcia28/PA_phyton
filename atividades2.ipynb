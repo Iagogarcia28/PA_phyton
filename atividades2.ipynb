{
  "nbformat": 4,
  "nbformat_minor": 0,
  "metadata": {
    "colab": {
      "provenance": [],
      "authorship_tag": "ABX9TyNqn4hlfqHa6ZUnPzYhE8Mm",
      "include_colab_link": true
    },
    "kernelspec": {
      "name": "python3",
      "display_name": "Python 3"
    },
    "language_info": {
      "name": "python"
    }
  },
  "cells": [
    {
      "cell_type": "markdown",
      "metadata": {
        "id": "view-in-github",
        "colab_type": "text"
      },
      "source": [
        "<a href=\"https://colab.research.google.com/github/Iagogarcia28/PA_phyton/blob/main/atividades2.ipynb\" target=\"_parent\"><img src=\"https://colab.research.google.com/assets/colab-badge.svg\" alt=\"Open In Colab\"/></a>"
      ]
    },
    {
      "cell_type": "markdown",
      "source": [
        "1 - números impares e pares em uma lista:\n",
        "\n",
        "* O usuario digita uma sequencias de numeros separados por espaço.\n",
        "* O programa transforma a lista em inteiros.\n",
        "* Usando \"for\", deve contar são pares e quantos são impares."
      ],
      "metadata": {
        "id": "ogYv1xleuQTa"
      }
    },
    {
      "cell_type": "markdown",
      "source": [
        "2 - adivinhar um numero secreto\n",
        "\n",
        "* O programa escolhe um numero secreto (EX: 1 a 20)\n",
        "* O usuario tenta adivinhar\n",
        "* enquanto não acertar, o programa da dicas (maior ou menor)\n",
        "* Quando acertar o loop acaba\n",
        "\n",
        "dica para numero aleatorio:\n",
        "\n",
        "* import random\n",
        "\n",
        "* secreto=random.randint(1,20)\n",
        "\n",
        "* tentativa = (none)\n"
      ],
      "metadata": {
        "id": "KAQz0yU9wJ_n"
      }
    },
    {
      "cell_type": "code",
      "source": [
        "entrada = input(\"Digite uma sequência de números separados por espaço: \")\n",
        "\n",
        "\n",
        "numeros = list(map(int, entrada.split()))\n",
        "\n",
        "\n",
        "pares = 0\n",
        "impares = 0\n",
        "\n",
        "\n",
        "for numero in numeros:\n",
        "    if numero % 2 == 0:\n",
        "        pares += 1\n",
        "    else:\n",
        "        impares += 1\n",
        "\n",
        "\n",
        "print(f\"Quantidade de números pares: {pares}\")\n",
        "print(f\"Quantidade de números ímpares: {impares}\")\n"
      ],
      "metadata": {
        "colab": {
          "base_uri": "https://localhost:8080/"
        },
        "id": "j_JFnMYyy2FZ",
        "outputId": "7bad265d-9eea-4a0c-ba54-a8d96117c760"
      },
      "execution_count": 5,
      "outputs": [
        {
          "output_type": "stream",
          "name": "stdout",
          "text": [
            "Digite uma sequência de números separados por espaço: 5 99 666 552 48\n",
            "Quantidade de números pares: 3\n",
            "Quantidade de números ímpares: 2\n"
          ]
        }
      ]
    },
    {
      "cell_type": "code",
      "source": [
        "import random\n",
        "\n",
        "def jogar_adivinhacao():\n",
        "    # Gera um número secreto entre 1 e 20\n",
        "    numero_secreto = random.randint(1, 20)\n",
        "    tentativas = 0\n",
        "\n",
        "    print(\"Bem-vindo ao jogo de Adivinhação!\")\n",
        "    print(\"Eu escolhi um número entre 1 e 20. Tente adivinhar qual é!\")\n",
        "\n",
        "    # Enquanto o usuário não acertar\n",
        "    while True:\n",
        "        # Solicita o palpite do usuário\n",
        "        palpite = int(input(\"Digite seu palpite: \"))\n",
        "        tentativas += 1\n",
        "\n",
        "        # Verifica se o palpite está correto\n",
        "        if palpite < numero_secreto:\n",
        "            print(\"Tente um número maior!\")\n",
        "        elif palpite > numero_secreto:\n",
        "            print(\"Tente um número menor!\")\n",
        "        else:\n",
        "            print(f\"Parabéns! Você acertou o número secreto {numero_secreto} em {tentativas} tentativas.\")\n",
        "            break  # Encerra o jogo quando o número for acertado\n",
        "\n",
        "# Chama a função para iniciar o jogo\n",
        "jogar_adivinhacao()\n"
      ],
      "metadata": {
        "colab": {
          "base_uri": "https://localhost:8080/"
        },
        "id": "XrpRJl4CzQLM",
        "outputId": "cac296e5-837c-43d4-db79-6cbf1be8d012"
      },
      "execution_count": null,
      "outputs": [
        {
          "output_type": "stream",
          "name": "stdout",
          "text": [
            "Bem-vindo ao jogo de Adivinhação!\n",
            "Eu escolhi um número entre 1 e 20. Tente adivinhar qual é!\n",
            "Digite seu palpite: 15\n",
            "Tente um número menor!\n",
            "Digite seu palpite: 5\n",
            "Tente um número menor!\n",
            "Digite seu palpite: 1\n",
            "Tente um número maior!\n",
            "Digite seu palpite: 2\n",
            "Parabéns! Você acertou o número secreto 2 em 4 tentativas.\n"
          ]
        }
      ]
    },
    {
      "cell_type": "markdown",
      "source": [
        "3 - Contar vogais em varias palavras:\n",
        "\n",
        "* O usuario digita uma lista de palavras (separadas por espaço)\n",
        "* O programa deve percorrer cada palavra usando um \"for\"\n",
        "* Em cada palavra contar quantas vogais existem\n",
        "* Mostrar no final o total de vogais em cada palavra"
      ],
      "metadata": {
        "id": "cuB0jEFM0Ffo"
      }
    },
    {
      "cell_type": "code",
      "source": [
        "# Função para contar as vogais em uma palavra\n",
        "def contar_vogais(palavra):\n",
        "    vogais = \"aeiouAEIOU\"  # Define as vogais, incluindo maiúsculas e minúsculas\n",
        "    contador = 0  # Variável para contar as vogais\n",
        "\n",
        "    for letra in palavra:\n",
        "        if letra in vogais:\n",
        "            contador += 1\n",
        "    return contador\n",
        "\n",
        "# Função principal\n",
        "def main():\n",
        "    # Solicita ao usuário para digitar uma lista de palavras separadas por espaço\n",
        "    palavras = input(\"Digite uma lista de palavras separadas por espaço: \").split()\n",
        "\n",
        "    # Para cada palavra, conta as vogais e imprime o resultado\n",
        "    for palavra in palavras:\n",
        "        numero_vogais = contar_vogais(palavra)\n",
        "        print(f\"A palavra '{palavra}' tem {numero_vogais} vogais.\")\n",
        "\n",
        "# Chama a função principal\n",
        "if __name__ == \"__main__\":\n",
        "    main()\n"
      ],
      "metadata": {
        "colab": {
          "base_uri": "https://localhost:8080/"
        },
        "id": "vxHQAyiY0qqg",
        "outputId": "228b7c2f-c562-4a30-aac6-c7c00667e644"
      },
      "execution_count": null,
      "outputs": [
        {
          "output_type": "stream",
          "name": "stdout",
          "text": [
            "Digite uma lista de palavras separadas por espaço: oi macarrão sabonete\n",
            "A palavra 'oi' tem 2 vogais.\n",
            "A palavra 'macarrão' tem 3 vogais.\n",
            "A palavra 'sabonete' tem 4 vogais.\n"
          ]
        }
      ]
    }
  ]
}