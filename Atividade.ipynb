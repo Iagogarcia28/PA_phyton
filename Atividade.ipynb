{
  "nbformat": 4,
  "nbformat_minor": 0,
  "metadata": {
    "colab": {
      "provenance": [],
      "include_colab_link": true
    },
    "kernelspec": {
      "name": "python3",
      "display_name": "Python 3"
    },
    "language_info": {
      "name": "python"
    }
  },
  "cells": [
    {
      "cell_type": "markdown",
      "metadata": {
        "id": "view-in-github",
        "colab_type": "text"
      },
      "source": [
        "<a href=\"https://colab.research.google.com/github/Iagogarcia28/PA_phyton/blob/main/Atividade.ipynb\" target=\"_parent\"><img src=\"https://colab.research.google.com/assets/colab-badge.svg\" alt=\"Open In Colab\"/></a>"
      ]
    },
    {
      "cell_type": "markdown",
      "source": [
        "**Exercícios com for, while, listas, strings e dicionários**"
      ],
      "metadata": {
        "id": "5KtSL9tuj-zo"
      }
    },
    {
      "cell_type": "markdown",
      "source": [
        "1) Soma dos números de uma lista\n",
        "\n",
        "Dada a lista numeros = [3, 7, 2, 8, 10], use um for para calcular a soma de todos os elementos."
      ],
      "metadata": {
        "id": "ZZZicFxfkEEg"
      }
    },
    {
      "cell_type": "code",
      "source": [
        "numeros = [3, 7, 2, 8, 10]\n",
        "soma = 0\n",
        "for numero in numeros:\n",
        "    soma += numero\n",
        "print(\"A soma dos números é:\", soma)"
      ],
      "metadata": {
        "id": "Mctj6o18gNDK",
        "colab": {
          "base_uri": "https://localhost:8080/"
        },
        "outputId": "763dc3c6-a297-40c0-ee0e-faf5377a095b"
      },
      "execution_count": 2,
      "outputs": [
        {
          "output_type": "stream",
          "name": "stdout",
          "text": [
            "A soma dos números é: 30\n"
          ]
        }
      ]
    },
    {
      "cell_type": "markdown",
      "source": [
        "2) Contagem de vogais em uma string\n",
        "\n",
        "Peça uma palavra ao usuário e use um for para contar quantas vogais (a, e, i, o, u) existem."
      ],
      "metadata": {
        "id": "Xw8gph7LkL6R"
      }
    },
    {
      "cell_type": "code",
      "source": [
        "vogais = \"aeiou\"\n",
        "palavra = input(\"Digite uma palavra: \")\n",
        "contador = 0\n",
        "for letra in palavra:\n",
        "    if letra in vogais:\n",
        "        contador += 1\n",
        "print(\"A palavra possui\", contador, \"vogais.\")"
      ],
      "metadata": {
        "id": "XmAy2fHMgX2h",
        "colab": {
          "base_uri": "https://localhost:8080/"
        },
        "outputId": "77aa906e-c90e-48ee-9494-81c9b021e6cc"
      },
      "execution_count": 3,
      "outputs": [
        {
          "output_type": "stream",
          "name": "stdout",
          "text": [
            "Digite uma palavra: cavalo\n",
            "A palavra possui 3 vogais.\n"
          ]
        }
      ]
    },
    {
      "cell_type": "markdown",
      "source": [],
      "metadata": {
        "id": "irD2xL3xkSDN"
      }
    },
    {
      "cell_type": "markdown",
      "source": [
        "3) Inverter lista usando while\n",
        "\n",
        "Dada a lista nomes = [\"Ana\", \"João\", \"Carlos\", \"Maria\"], use um while para inverter a ordem dos elementos (sem usar reverse() ou slicing)."
      ],
      "metadata": {
        "id": "YfW4Aw8ckZw-"
      }
    },
    {
      "cell_type": "code",
      "source": [
        "nomes = [\"Ana\", \"João\", \"Carlos\", \"Maria\"]\n",
        "tamanho = len(nomes)\n",
        "indice = tamanho - 1\n",
        "while indice >= 0:\n",
        "    print(nomes[indice])\n",
        "    indice -= 1"
      ],
      "metadata": {
        "colab": {
          "base_uri": "https://localhost:8080/"
        },
        "id": "441V-poVg_nq",
        "outputId": "2987f646-216b-4d90-afe2-84395c499441"
      },
      "execution_count": 4,
      "outputs": [
        {
          "output_type": "stream",
          "name": "stdout",
          "text": [
            "Maria\n",
            "Carlos\n",
            "João\n",
            "Ana\n"
          ]
        }
      ]
    },
    {
      "cell_type": "markdown",
      "source": [
        "4) Maior número em uma lista\n",
        "\n",
        "Escreva um programa que percorra uma lista de inteiros e encontre o maior valor."
      ],
      "metadata": {
        "id": "cvRuv0PxkkYi"
      }
    },
    {
      "cell_type": "code",
      "source": [
        "numeros = [4, 5, 2, 9, 22]\n",
        "maior = numeros[0]\n",
        "for numero in numeros:\n",
        "    if numero > maior:\n",
        "        maior = numero\n",
        "print(\"O maior número é:\", maior)"
      ],
      "metadata": {
        "colab": {
          "base_uri": "https://localhost:8080/"
        },
        "id": "22NCz0eJhE--",
        "outputId": "621e2574-d9cc-44f6-9916-c9748197da1a"
      },
      "execution_count": 6,
      "outputs": [
        {
          "output_type": "stream",
          "name": "stdout",
          "text": [
            "O maior número é: 22\n"
          ]
        }
      ]
    },
    {
      "cell_type": "markdown",
      "source": [
        "5) Remover elementos repetidos de uma lista\n",
        "\n",
        "Usando um for, percorra a lista valores = [1, 2, 2, 3, 4, 4, 5] e crie uma nova lista apenas com elementos únicos."
      ],
      "metadata": {
        "id": "xV6pmOVCkuCm"
      }
    },
    {
      "cell_type": "code",
      "source": [
        "valores = [1, 2, 2, 3, 4, 4, 5]\n",
        "unicos = []\n",
        "for valor in valores:\n",
        "    if valor not in unicos:\n",
        "        unicos.append(valor)\n",
        "        print(unicos)"
      ],
      "metadata": {
        "colab": {
          "base_uri": "https://localhost:8080/"
        },
        "id": "74MKcOwDhPK7",
        "outputId": "501dd330-c856-4580-da87-36ba819c9e37"
      },
      "execution_count": 7,
      "outputs": [
        {
          "output_type": "stream",
          "name": "stdout",
          "text": [
            "[1]\n",
            "[1, 2]\n",
            "[1, 2, 3]\n",
            "[1, 2, 3, 4]\n",
            "[1, 2, 3, 4, 5]\n"
          ]
        }
      ]
    },
    {
      "cell_type": "markdown",
      "source": [
        "6) Verificar se palavra é palíndromo\n",
        "\n",
        "Peça uma palavra ao usuário e use while ou for para verificar se ela é igual de frente para trás (ex.: \"arara\")."
      ],
      "metadata": {
        "id": "_bHj-pkzk2TX"
      }
    },
    {
      "cell_type": "code",
      "source": [
        "palavra = input(\"Digite uma palavra: \")\n",
        "tamanho = len(palavra)\n",
        "indice = tamanho - 1\n",
        "palindromo = True\n",
        "while indice >= 0:\n",
        "    if palavra[indice] != palavra[tamanho - 1 - indice]:\n",
        "        palindromo = False\n",
        "        break\n",
        "    indice -= 1\n",
        "    if palindromo:\n",
        "        print(\"A palavra é um palíndromo.\")\n",
        "    else:\n",
        "        print(\"A palavra não é um palíndromo.\")"
      ],
      "metadata": {
        "colab": {
          "base_uri": "https://localhost:8080/"
        },
        "id": "iA5TqKHyhWaz",
        "outputId": "ea477c2f-598d-4505-9f7f-bc9a01f8345b"
      },
      "execution_count": 10,
      "outputs": [
        {
          "name": "stdout",
          "output_type": "stream",
          "text": [
            "Digite uma palavra: lobo\n"
          ]
        }
      ]
    },
    {
      "cell_type": "markdown",
      "source": [
        "7 Contagem regressiva com while\n",
        "\n",
        "Peça ao usuário um número e faça uma contagem regressiva até 0."
      ],
      "metadata": {
        "id": "1PeOPJ3ClC0c"
      }
    },
    {
      "cell_type": "code",
      "source": [
        "a = int(input(\"Digite um número: \"))\n",
        "while a >= 0:\n",
        "    print(a)\n",
        "    a -= 1"
      ],
      "metadata": {
        "colab": {
          "base_uri": "https://localhost:8080/"
        },
        "id": "wiGn96CBhiXj",
        "outputId": "a1a7f4f8-d8d4-45ef-9eaf-744bda9f876b"
      },
      "execution_count": 11,
      "outputs": [
        {
          "output_type": "stream",
          "name": "stdout",
          "text": [
            "Digite um número: 8\n",
            "8\n",
            "7\n",
            "6\n",
            "5\n",
            "4\n",
            "3\n",
            "2\n",
            "1\n",
            "0\n"
          ]
        }
      ]
    },
    {
      "cell_type": "markdown",
      "source": [
        "8) Percorrendo um dicionário de notas\n",
        "\n",
        "Dado o dicionário notas = {\"Ana\": 8, \"Carlos\": 7, \"Maria\": 10}, use um for para exibir cada aluno com sua nota."
      ],
      "metadata": {
        "id": "wKkDTzwelK_f"
      }
    },
    {
      "cell_type": "code",
      "source": [
        "a = {\"Ana\": 8, \"Carlos\": 7, \"Maria\": 10}\n",
        "for aluno, nota in a.items():\n",
        "    print(aluno, nota)"
      ],
      "metadata": {
        "colab": {
          "base_uri": "https://localhost:8080/"
        },
        "id": "zinylbXghwI0",
        "outputId": "e126ddbe-43bb-4225-b836-96dc327c7200"
      },
      "execution_count": 12,
      "outputs": [
        {
          "output_type": "stream",
          "name": "stdout",
          "text": [
            "Ana 8\n",
            "Carlos 7\n",
            "Maria 10\n"
          ]
        }
      ]
    },
    {
      "cell_type": "markdown",
      "source": [
        "9)Filtrar números pares de uma lista\n",
        "\n",
        "Dada a lista numeros = [10, 21, 32, 43, 54], use um for para criar uma nova lista contendo apenas os pares."
      ],
      "metadata": {
        "id": "xrXKbCl7lUQg"
      }
    },
    {
      "cell_type": "code",
      "source": [
        "a = [10, 21, 32, 43, 54]\n",
        "b = []\n",
        "for numero in a:\n",
        "    if numero % 2 == 0:\n",
        "        b.append(numero)\n",
        "print(b)"
      ],
      "metadata": {
        "colab": {
          "base_uri": "https://localhost:8080/"
        },
        "id": "rPqKDQA1h2Hb",
        "outputId": "299142e9-bd87-447d-ff39-d948c13cb6fc"
      },
      "execution_count": 13,
      "outputs": [
        {
          "output_type": "stream",
          "name": "stdout",
          "text": [
            "[10, 32, 54]\n"
          ]
        }
      ]
    },
    {
      "cell_type": "markdown",
      "source": [
        "10) Contador de palavras em uma frase\n",
        "\n",
        "Peça ao usuário uma frase, divida em palavras (split()) e use um dicionário para contar quantas vezes cada palavra aparece."
      ],
      "metadata": {
        "id": "9pzoi0GxlcO8"
      }
    },
    {
      "cell_type": "code",
      "source": [
        "a = input(\"Digite uma frase: \")\n",
        "b = a.split()\n",
        "c = {}\n",
        "for palavra in b:\n",
        "    if palavra in c:\n",
        "        c[palavra] += 1\n",
        "    else:\n",
        "        c[palavra] = 1\n",
        "print(c)"
      ],
      "metadata": {
        "colab": {
          "base_uri": "https://localhost:8080/"
        },
        "id": "yyVs5dqHh8e4",
        "outputId": "9ef07abf-494a-4fe9-ecda-601eb3ee881f"
      },
      "execution_count": 15,
      "outputs": [
        {
          "output_type": "stream",
          "name": "stdout",
          "text": [
            "Digite uma frase: um dois tres quatro um dois\n",
            "{'um': 2, 'dois': 2, 'tres': 1, 'quatro': 1}\n"
          ]
        }
      ]
    }
  ]
}