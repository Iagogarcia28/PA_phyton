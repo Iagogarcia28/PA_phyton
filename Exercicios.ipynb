{
  "nbformat": 4,
  "nbformat_minor": 0,
  "metadata": {
    "colab": {
      "provenance": [],
      "include_colab_link": true
    },
    "kernelspec": {
      "name": "python3",
      "display_name": "Python 3"
    },
    "language_info": {
      "name": "python"
    }
  },
  "cells": [
    {
      "cell_type": "markdown",
      "metadata": {
        "id": "view-in-github",
        "colab_type": "text"
      },
      "source": [
        "<a href=\"https://colab.research.google.com/github/Iagogarcia28/PA_phyton/blob/main/Exercicios.ipynb\" target=\"_parent\"><img src=\"https://colab.research.google.com/assets/colab-badge.svg\" alt=\"Open In Colab\"/></a>"
      ]
    },
    {
      "cell_type": "markdown",
      "source": [
        "# Tuplas - Acesso e Desempacotamento\n",
        "\n",
        "1) Crie uma tupla contendo três tipos diferentes de dados: um número, uma string e uma lista. Use um laço de repetição para acessar e imprimir cada item da tupla. Além disso, dentro do laço, acesse e imprima o segundo item da lista que está dentro da tupla."
      ],
      "metadata": {
        "id": "HM91bKpkBqGI"
      }
    },
    {
      "cell_type": "code",
      "source": [
        "#entrada\n",
        "dados = (8, \"cavalo\",[15,18,3])\n",
        "\n",
        "#saida\n",
        "for i in dados:\n",
        "  print(i)"
      ],
      "metadata": {
        "colab": {
          "base_uri": "https://localhost:8080/"
        },
        "id": "sCbCOqPVYeRv",
        "outputId": "b7e69784-aa81-4e5e-a394-7fc1e85a7add"
      },
      "execution_count": 5,
      "outputs": [
        {
          "output_type": "stream",
          "name": "stdout",
          "text": [
            "8\n",
            "cavalo\n",
            "[15, 18, 3]\n"
          ]
        }
      ]
    },
    {
      "cell_type": "markdown",
      "source": [
        "# Dicionários - Criação e Acesso\n",
        "## Cadastro de Pessoas e Análise de Alturas\n",
        "2) Solicite ao usuário para inserir o nome e a altura de várias pessoas. Preencha um dicionário com essas informações e depois encontre e imprima o nome e a altura da pessoa mais alta e da mais baixa."
      ],
      "metadata": {
        "id": "6vEHxGtjBxMi"
      }
    },
    {
      "cell_type": "code",
      "source": [
        "#entrada\n",
        "alturas = {}\n",
        "\n",
        "while True:\n",
        "  nome = input(\"Digite o nome da pessoa para cadastro ou sair: \").lower()\n",
        "\n",
        " #processamento\n",
        "  if nome == \"sair\":\n",
        "    pessoamaisalta = max(alturas, key=alturas.get)\n",
        "    pessoamaisbaixa = min(alturas, key=alturas.get)\n",
        "    break\n",
        "  altura = float(input(f\"Digite a altura de {nome}: \"))\n",
        "\n",
        "  alturas[nome]= altura\n",
        "  print(alturas)\n",
        "#saida\n",
        "print(f\"A pessoa mais alta é {pessoamaisalta} com altura de {alturas[pessoamaisalta]}\")\n",
        "print(f\"A pessoa mais baixa é {pessoamaisbaixa} com altura de {alturas[pessoamaisbaixa]}\")"
      ],
      "metadata": {
        "id": "MpJYauvTZR69",
        "colab": {
          "base_uri": "https://localhost:8080/"
        },
        "outputId": "9eedc4b1-22ba-4bde-d65d-30882ad2b8d7"
      },
      "execution_count": null,
      "outputs": [
        {
          "output_type": "stream",
          "name": "stdout",
          "text": [
            "Digite o nome da pessoa para cadastro ou sair: pablito\n",
            "Digite a altura de pablito: 1.9\n",
            "{'pablito': 1.9}\n",
            "Digite o nome da pessoa para cadastro ou sair: cintia\n",
            "Digite a altura de cintia: .5\n",
            "{'pablito': 1.9, 'cintia': 0.5}\n",
            "Digite o nome da pessoa para cadastro ou sair: peruibe\n",
            "Digite a altura de peruibe: 0\n",
            "{'pablito': 1.9, 'cintia': 0.5, 'peruibe': 0.0}\n",
            "Digite o nome da pessoa para cadastro ou sair: sair\n",
            "A pessoa mais alta é pablito com altura de 1.9\n",
            "A pessoa mais baixa é peruibe com altura de 0.0\n"
          ]
        }
      ]
    },
    {
      "cell_type": "markdown",
      "source": [
        "# Lista, laços e Condicionais\n",
        "3) Descrição: Crie uma listacom cinco números inteiros. Use um laço de repetição e uma condicional para imprimir apenas os números que são múltiplos de 3."
      ],
      "metadata": {
        "id": "FytD4QZyELAt"
      }
    },
    {
      "cell_type": "code",
      "source": [
        "##entrada\n",
        "lista = []\n",
        "\n",
        "for i in range(5):\n",
        "  numero = int(input(\"digite um numero: \"))\n",
        "  lista.append(numero)\n",
        "  print(lista)\n",
        "\n",
        "#processamento\n",
        "for i in lista:\n",
        "  div = lista[0]%3\n",
        "  if div == 0:\n",
        "    print(f\"{i} é multiplo de 3\")\n",
        "  print(div)"
      ],
      "metadata": {
        "colab": {
          "base_uri": "https://localhost:8080/"
        },
        "id": "6RbMIEd6z4Y8",
        "outputId": "818038dc-74de-4a51-856a-7826d65864dd"
      },
      "execution_count": null,
      "outputs": [
        {
          "output_type": "stream",
          "name": "stdout",
          "text": [
            "digite um numero: 10\n",
            "[10]\n",
            "digite um numero: 5\n",
            "[10, 5]\n",
            "digite um numero: 2\n",
            "[10, 5, 2]\n",
            "digite um numero: 0\n",
            "[10, 5, 2, 0]\n",
            "digite um numero: 5\n",
            "[10, 5, 2, 0, 5]\n",
            "1\n",
            "1\n",
            "1\n",
            "1\n",
            "1\n"
          ]
        }
      ]
    },
    {
      "cell_type": "markdown",
      "source": [
        "# Manipulação de Strings e Condicionais\n",
        "4) Descrição: Crie uma string com uma frase. Use uma condicional para verificar se a frase contém a palavra \"Python\". Se sim, substitua a palavra \"Python\" por \"programação\" e imprima a nova frase."
      ],
      "metadata": {
        "id": "hwn3Fz8aEYSH"
      }
    },
    {
      "cell_type": "code",
      "source": [
        "#entrada\n",
        "new = \"\"\n",
        "frase = \"eu faço python\"\n",
        "print(frase)\n",
        "\n",
        "\n",
        "while True:\n",
        "  if \"python\" in frase:\n",
        "    frase = frase.replace(\"python\", \"programação\")\n",
        "    print(frase)\n",
        "    break"
      ],
      "metadata": {
        "colab": {
          "base_uri": "https://localhost:8080/"
        },
        "id": "STjX0IZXfg_X",
        "outputId": "8fd6163d-6b40-4aa8-e24d-2f165aac94e8"
      },
      "execution_count": null,
      "outputs": [
        {
          "output_type": "stream",
          "name": "stdout",
          "text": [
            "eu faço python\n",
            "eu faço programação\n"
          ]
        }
      ]
    },
    {
      "cell_type": "markdown",
      "source": [
        "# Simulação de Alfândega com Cadastro Dinâmico de Itens usando dicionário\n",
        "5) Simule uma situação de alfândega onde o funcionário cadastra itens novos encontrados na mala de uma pessoa que veio de uma viagem internacional. Após o cadastro de todos os itens, o programa imprime uma nota com todos os itens e seus preços, calcula o valor total e, se o valor total ultrapassar 500 dólares, calcula o valor de 60% a ser pago."
      ],
      "metadata": {
        "id": "hPP-JNTxEwFT"
      }
    },
    {
      "cell_type": "code",
      "source": [
        "#entrada\n",
        "produtos = {}\n",
        "\n",
        "while True:\n",
        "  itens = input(\"digite o nome do produto ou digite sair para sair: \")\n",
        "  if itens == \"sair\":\n",
        "\n",
        "    break\n",
        "  valor = float(input(\"digite o preço do produto: \"))\n",
        "\n",
        "  produtos[itens] = valor\n",
        "\n",
        "##saida\n",
        "print(produtos)\n",
        "total = sum(produtos.values())\n",
        "print(total)\n",
        "if total >500:\n",
        "  total = total+(0.6*total)\n",
        "print(total)"
      ],
      "metadata": {
        "colab": {
          "base_uri": "https://localhost:8080/"
        },
        "id": "CD6do_iwq-eM",
        "outputId": "1c19bbfb-49dd-455a-cbf4-3da444723ceb"
      },
      "execution_count": null,
      "outputs": [
        {
          "output_type": "stream",
          "name": "stdout",
          "text": [
            "digite o nome do produto ou digite sair para sair: carro\n",
            "digite o preço do produto: 5000\n",
            "digite o nome do produto ou digite sair para sair: sair\n",
            "{'carro': 5000.0}\n",
            "5000.0\n",
            "8000.0\n"
          ]
        }
      ]
    },
    {
      "cell_type": "markdown",
      "source": [
        "# Identificação de Palavras Negativas em um Texto\n",
        "6) Você vai criar um programa em Python para analisar um texto e identificar palavras que expressam pensamentos negativos. Para isso, você usará uma lista de palavras negativas fornecida e verificará quais dessas palavras estão presentes no texto fornecido pelo usuário. Exemplo de palavras negtivas, acrescente mais na lista: # Lista de palavras negativas palavras_negativas = ['triste', 'deprimido', 'ansioso', 'desapontado', 'frustrado']"
      ],
      "metadata": {
        "id": "OH8D047zVsp-"
      }
    },
    {
      "cell_type": "code",
      "source": [
        "#entrada\n",
        "negativas =  ['triste', 'deprimido', 'ansioso', 'desapontado', 'frustrado']\n",
        "frase = input(\"Digite sua frase\") .lower()\n",
        "palavra_negativa = False\n",
        "\n",
        "for i in negativas:\n",
        "  if i in frase:\n",
        "    palavra_negativa = True\n",
        "    break\n",
        "#saida\n",
        "if palavra_negativa == True:\n",
        "  print(\"Na sua frase tem palavras negativas\" , negativas)\n",
        "else:\n",
        "  print(\"Na sua frase não tem palavras negativas\")\n"
      ],
      "metadata": {
        "id": "xDSrYWf_Vr8G",
        "colab": {
          "base_uri": "https://localhost:8080/"
        },
        "outputId": "0a9af7ea-2840-44fa-8b90-ca1e9e1d0757"
      },
      "execution_count": 1,
      "outputs": [
        {
          "output_type": "stream",
          "name": "stdout",
          "text": [
            "Digite sua frasecarambolas\n",
            "Na sua frase não tem palavras negativas\n"
          ]
        }
      ]
    },
    {
      "cell_type": "markdown",
      "source": [
        "1) Soma dos números de uma lista\n",
        "\n",
        "Dada a lista numeros = [3, 7, 2, 8, 10], use um for para calcular a soma de todos os elementos."
      ],
      "metadata": {
        "id": "ZZZicFxfkEEg"
      }
    },
    {
      "cell_type": "code",
      "source": [
        "\n",
        "lista=[3,7,2,8,10]\n",
        "soma = 0\n",
        "\n",
        "for i in lista:\n",
        "  soma += i\n",
        "print(\"soma =\", soma)"
      ],
      "metadata": {
        "id": "k1C79BJdy5M2",
        "colab": {
          "base_uri": "https://localhost:8080/"
        },
        "outputId": "35b33f94-2945-4e53-88fb-b9badeaed2ef"
      },
      "execution_count": null,
      "outputs": [
        {
          "output_type": "stream",
          "name": "stdout",
          "text": [
            "soma = 30\n"
          ]
        }
      ]
    },
    {
      "cell_type": "markdown",
      "source": [
        "2) Contagem de vogais em uma string\n",
        "\n",
        "Peça uma palavra ao usuário e use um for para contar quantas vogais (a, e, i, o, u) existem."
      ],
      "metadata": {
        "id": "Xw8gph7LkL6R"
      }
    },
    {
      "cell_type": "code",
      "source": [
        "palavra = input(\"Digite uma palavra: \")\n",
        "contar = 0\n",
        "vogais = \"a,e,i,o,u\"\n",
        "\n",
        "for i in palavra:\n",
        "  if i in vogais:\n",
        "    contar += 1\n",
        "print(\"Está palavra tem\",contar,\"vogais\")"
      ],
      "metadata": {
        "id": "kXxiTg3ey5gM",
        "colab": {
          "base_uri": "https://localhost:8080/"
        },
        "outputId": "8f1d6f7b-5951-4e8a-c8f2-dfb04e49f1af"
      },
      "execution_count": null,
      "outputs": [
        {
          "output_type": "stream",
          "name": "stdout",
          "text": [
            "Digite uma palavra: cavalo\n",
            "Está palavra tem 3 vogais\n"
          ]
        }
      ]
    },
    {
      "cell_type": "markdown",
      "source": [
        "3) Inverter lista usando while\n",
        "\n",
        "Dada a lista nomes = [\"Ana\", \"João\", \"Carlos\", \"Maria\"], use um while para inverter a ordem dos elementos (sem usar reverse() ou slicing)."
      ],
      "metadata": {
        "id": "YfW4Aw8ckZw-"
      }
    },
    {
      "cell_type": "code",
      "source": [
        "lista = [\"Ana\", \"João\", \"Carlos\", \"Maria\"]\n",
        "inver =[]\n",
        "\n",
        "while len(lista) > 0:\n",
        "  ultimo = lista.pop()\n",
        "  inver.append(ultimo)\n",
        "\n",
        "print(\"Lista invertida:\",inver)"
      ],
      "metadata": {
        "id": "HTlUceQUy6OE",
        "colab": {
          "base_uri": "https://localhost:8080/"
        },
        "outputId": "581b866c-64ba-406b-aef9-2f8dc549a124"
      },
      "execution_count": null,
      "outputs": [
        {
          "output_type": "stream",
          "name": "stdout",
          "text": [
            "Lista invertida: ['Maria', 'Carlos', 'João', 'Ana']\n"
          ]
        }
      ]
    },
    {
      "cell_type": "markdown",
      "source": [
        "4) Maior número em uma lista\n",
        "\n",
        "Escreva um programa que percorra uma lista de inteiros e encontre o maior valor."
      ],
      "metadata": {
        "id": "cvRuv0PxkkYi"
      }
    },
    {
      "cell_type": "code",
      "source": [
        "num = [8,12,3,1,15,7,9,4,6,22]\n",
        "print(\"O maior número é:\",max(num))"
      ],
      "metadata": {
        "id": "mkgHGresy6cM",
        "colab": {
          "base_uri": "https://localhost:8080/"
        },
        "outputId": "ec3425e3-7cec-41a4-fbfa-35f7becf40d3"
      },
      "execution_count": null,
      "outputs": [
        {
          "output_type": "stream",
          "name": "stdout",
          "text": [
            "O maior número é: 22\n"
          ]
        }
      ]
    },
    {
      "cell_type": "markdown",
      "source": [
        "5) Remover elementos repetidos de uma lista\n",
        "\n",
        "Usando um for, percorra a lista valores = [1, 2, 2, 3, 4, 4, 5] e crie uma nova lista apenas com elementos únicos."
      ],
      "metadata": {
        "id": "xV6pmOVCkuCm"
      }
    },
    {
      "cell_type": "code",
      "source": [
        "valor = [1, 2, 2, 3, 4, 4, 5]\n",
        "unic = []\n",
        "\n",
        "for v in valor:\n",
        "  if v not in unic:\n",
        "    unic.append(v)\n",
        "\n",
        "print(\"Lista sem repetir elementos:\", unic)"
      ],
      "metadata": {
        "id": "k8Z816xAy7Lz",
        "colab": {
          "base_uri": "https://localhost:8080/"
        },
        "outputId": "c7caef1d-ff6c-4d5a-9285-48b14910cd55"
      },
      "execution_count": null,
      "outputs": [
        {
          "output_type": "stream",
          "name": "stdout",
          "text": [
            "Lista sem repetir elementos: [1, 2, 3, 4, 5]\n"
          ]
        }
      ]
    },
    {
      "cell_type": "markdown",
      "source": [
        "6) Verificar se palavra é palíndromo\n",
        "\n",
        "Peça uma palavra ao usuário e use while ou for para verificar se ela é igual de frente para trás (ex.: \"arara\")."
      ],
      "metadata": {
        "id": "_bHj-pkzk2TX"
      }
    },
    {
      "cell_type": "code",
      "source": [
        "palavra = input(\"Digite uma palavra: \")\n",
        "\n",
        "palindromo = True\n",
        "tam = len(palavra)\n",
        "for i in range( tam // 2):\n",
        "  if palavra[i] != palavra[tam - 1 - i]:\n",
        "    palindromo = False\n",
        "    break\n",
        "if palindromo :\n",
        "  print(\"É um palíndromo\")\n",
        "else:\n",
        "  print(\"Não é um palíndromo\")"
      ],
      "metadata": {
        "id": "6YJRHpEKy8T0",
        "colab": {
          "base_uri": "https://localhost:8080/"
        },
        "outputId": "1e9cac4a-e472-4b68-c0b9-4d80e19639b1"
      },
      "execution_count": null,
      "outputs": [
        {
          "output_type": "stream",
          "name": "stdout",
          "text": [
            "Digite uma palavra: ovo\n",
            "É um palíndromo\n"
          ]
        }
      ]
    },
    {
      "cell_type": "markdown",
      "source": [
        "7 Contagem regressiva com while\n",
        "\n",
        "Peça ao usuário um número e faça uma contagem regressiva até 0."
      ],
      "metadata": {
        "id": "1PeOPJ3ClC0c"
      }
    },
    {
      "cell_type": "code",
      "source": [
        "num = int(input(\"Digite um número: \"))\n",
        "while num >=0:\n",
        "  print(num)\n",
        "  num -= 1\n",
        "print(\"A contagem acaba aqui\")"
      ],
      "metadata": {
        "id": "B-h2K2ZRy84U",
        "colab": {
          "base_uri": "https://localhost:8080/"
        },
        "outputId": "b2e012b7-ab88-43bf-ce29-8cdddf7e4968"
      },
      "execution_count": null,
      "outputs": [
        {
          "output_type": "stream",
          "name": "stdout",
          "text": [
            "Digite um número: 6\n",
            "6\n",
            "5\n",
            "4\n",
            "3\n",
            "2\n",
            "1\n",
            "0\n",
            "A contagem acaba aqui\n"
          ]
        }
      ]
    },
    {
      "cell_type": "markdown",
      "source": [
        "8) Percorrendo um dicionário de notas\n",
        "\n",
        "Dado o dicionário notas = {\"Ana\": 8, \"Carlos\": 7, \"Maria\": 10}, use um for para exibir cada aluno com sua nota."
      ],
      "metadata": {
        "id": "wKkDTzwelK_f"
      }
    },
    {
      "cell_type": "code",
      "source": [
        "notas = {\"Ana\": 8, \"Carlos\": 7, \"Maria\": 10}\n",
        "for aluno,nota in notas.items():\n",
        "  print(aluno,\"tem nota\", nota )"
      ],
      "metadata": {
        "id": "bmplSTU1y9P0",
        "colab": {
          "base_uri": "https://localhost:8080/"
        },
        "outputId": "2caf8c19-d66b-45ee-c9bd-a0e9a10e2794"
      },
      "execution_count": null,
      "outputs": [
        {
          "output_type": "stream",
          "name": "stdout",
          "text": [
            "Ana tem nota 8\n",
            "Carlos tem nota 7\n",
            "Maria tem nota 10\n"
          ]
        }
      ]
    },
    {
      "cell_type": "markdown",
      "source": [
        "9)Filtrar números pares de uma lista\n",
        "\n",
        "Dada a lista numeros = [10, 21, 32, 43, 54], use um for para criar uma nova lista contendo apenas os pares."
      ],
      "metadata": {
        "id": "xrXKbCl7lUQg"
      }
    },
    {
      "cell_type": "code",
      "source": [
        "numeros = [10, 21, 32, 43, 54]\n",
        "par = []\n",
        "for i in numeros:\n",
        "  if i %2 == 0: #verifica se o número é par\n",
        "    par.append(i)\n",
        "\n",
        "print(\"Números pares\",par)"
      ],
      "metadata": {
        "id": "aBEBrrmky9vL",
        "colab": {
          "base_uri": "https://localhost:8080/"
        },
        "outputId": "4f4fbd42-3c23-44a7-d231-68d50e494f7a"
      },
      "execution_count": null,
      "outputs": [
        {
          "output_type": "stream",
          "name": "stdout",
          "text": [
            "Números pares [10, 32, 54]\n"
          ]
        }
      ]
    },
    {
      "cell_type": "markdown",
      "source": [
        "10) Contador de palavras em uma frase\n",
        "\n",
        "Peça ao usuário uma frase, divida em palavras (split()) e use um dicionário para contar quantas vezes cada palavra aparece."
      ],
      "metadata": {
        "id": "9pzoi0GxlcO8"
      }
    },
    {
      "cell_type": "code",
      "source": [
        "frase = input(\"Digite uma frase: \")\n",
        "palavra = frase.split()\n",
        "contar = {}\n",
        "\n",
        "for i in palavra:\n",
        "  if i in contar:\n",
        "    contar[i] +=1\n",
        "  else:\n",
        "    contar[i] = 1\n",
        "print(\"Contagem de palavras: \",contar)"
      ],
      "metadata": {
        "id": "eDgdvEWly98k",
        "colab": {
          "base_uri": "https://localhost:8080/"
        },
        "outputId": "978e495f-ec9a-40bf-c220-3cbfc5f626fd"
      },
      "execution_count": null,
      "outputs": [
        {
          "output_type": "stream",
          "name": "stdout",
          "text": [
            "Digite uma frase: eu amo cavalos que me levam para sair\n",
            "Contagem de palavras:  {'eu': 1, 'amo': 1, 'cavalos': 1, 'que': 1, 'me': 1, 'levam': 1, 'para': 1, 'sair': 1}\n"
          ]
        }
      ]
    }
  ]
}